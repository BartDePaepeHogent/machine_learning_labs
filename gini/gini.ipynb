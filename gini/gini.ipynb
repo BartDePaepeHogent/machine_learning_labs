{
 "cells": [
  {
   "cell_type": "code",
   "execution_count": 1,
   "outputs": [
    {
     "name": "stdout",
     "output_type": "stream",
     "text": [
      "gini: 0.16803840877914955\n"
     ]
    }
   ],
   "source": [
    "n_samples = 54\n",
    "species_array = [49, 5]\n",
    "sum = 0\n",
    "for species in species_array:\n",
    "    ratio = species / n_samples\n",
    "    sqr = ratio ** 2\n",
    "    sum += sqr\n",
    "gini = 1 - sum\n",
    "print(f\"gini: {gini}\")"
   ],
   "metadata": {
    "collapsed": false,
    "pycharm": {
     "name": "#%%\n"
    }
   }
  },
  {
   "cell_type": "code",
   "execution_count": null,
   "outputs": [],
   "source": [],
   "metadata": {
    "collapsed": false,
    "pycharm": {
     "name": "#%%\n"
    }
   }
  }
 ],
 "metadata": {
  "kernelspec": {
   "display_name": "Python 3",
   "language": "python",
   "name": "python3"
  },
  "language_info": {
   "codemirror_mode": {
    "name": "ipython",
    "version": 2
   },
   "file_extension": ".py",
   "mimetype": "text/x-python",
   "name": "python",
   "nbconvert_exporter": "python",
   "pygments_lexer": "ipython2",
   "version": "2.7.6"
  }
 },
 "nbformat": 4,
 "nbformat_minor": 0
}