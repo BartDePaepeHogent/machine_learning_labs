{
 "cells": [
  {
   "cell_type": "markdown",
   "metadata": {
    "id": "sKkJxTKxriAC",
    "pycharm": {
     "name": "#%% md\n"
    }
   },
   "source": [
    "# Churn problem \n",
    "\n",
    "A bank is investigating a very high rate of customer leaving the bank. Here is a 10.000 records dataset to investigate and predict which of the customers are more likely to leave the bank soon."
   ]
  },
  {
   "cell_type": "code",
   "execution_count": 1,
   "metadata": {
    "id": "qz-EnOORrhEb",
    "pycharm": {
     "name": "#%%\n"
    }
   },
   "outputs": [],
   "source": [
    "# Importing the necessary packages\n",
    "import numpy as np                                  # \"Scientific computing\"\n",
    "import scipy.stats as stats                         # Statistical tests\n",
    "\n",
    "import pandas as pd                                 # Data Frame\n",
    "from pandas.api.types import CategoricalDtype\n",
    "\n",
    "import matplotlib.pyplot as plt                     # Basic visualisation\n",
    "import seaborn as sns                               # Advanced data visualisation\n",
    "\n",
    "%matplotlib inline"
   ]
  },
  {
   "cell_type": "markdown",
   "metadata": {
    "id": "t5wkD-a9uzhg",
    "pycharm": {
     "name": "#%% md\n"
    }
   },
   "source": [
    "Read the file Churn_Modelling.csv.  \n",
    "Show the first few records."
   ]
  },
  {
   "cell_type": "code",
   "execution_count": 2,
   "metadata": {
    "colab": {
     "base_uri": "https://localhost:8080/",
     "height": 206
    },
    "id": "D2NiiqSsulls",
    "outputId": "3a75ba68-29a6-4a5c-ed4f-c06561309d44",
    "pycharm": {
     "name": "#%%\n"
    }
   },
   "outputs": [
    {
     "data": {
      "text/plain": "   RowNumber  CustomerId   Surname  CreditScore Geography  Gender  Age  \\\n0          1    15634602  Hargrave          619    France  Female   42   \n1          2    15647311      Hill          608     Spain  Female   41   \n2          3    15619304      Onio          502    France  Female   42   \n3          4    15701354      Boni          699    France  Female   39   \n4          5    15737888  Mitchell          850     Spain  Female   43   \n\n   Tenure    Balance  NumOfProducts  HasCrCard  IsActiveMember  \\\n0       2       0.00              1          1               1   \n1       1   83807.86              1          0               1   \n2       8  159660.80              3          1               0   \n3       1       0.00              2          0               0   \n4       2  125510.82              1          1               1   \n\n   EstimatedSalary  Exited  \n0        101348.88       1  \n1        112542.58       0  \n2        113931.57       1  \n3         93826.63       0  \n4         79084.10       0  ",
      "text/html": "<div>\n<style scoped>\n    .dataframe tbody tr th:only-of-type {\n        vertical-align: middle;\n    }\n\n    .dataframe tbody tr th {\n        vertical-align: top;\n    }\n\n    .dataframe thead th {\n        text-align: right;\n    }\n</style>\n<table border=\"1\" class=\"dataframe\">\n  <thead>\n    <tr style=\"text-align: right;\">\n      <th></th>\n      <th>RowNumber</th>\n      <th>CustomerId</th>\n      <th>Surname</th>\n      <th>CreditScore</th>\n      <th>Geography</th>\n      <th>Gender</th>\n      <th>Age</th>\n      <th>Tenure</th>\n      <th>Balance</th>\n      <th>NumOfProducts</th>\n      <th>HasCrCard</th>\n      <th>IsActiveMember</th>\n      <th>EstimatedSalary</th>\n      <th>Exited</th>\n    </tr>\n  </thead>\n  <tbody>\n    <tr>\n      <th>0</th>\n      <td>1</td>\n      <td>15634602</td>\n      <td>Hargrave</td>\n      <td>619</td>\n      <td>France</td>\n      <td>Female</td>\n      <td>42</td>\n      <td>2</td>\n      <td>0.00</td>\n      <td>1</td>\n      <td>1</td>\n      <td>1</td>\n      <td>101348.88</td>\n      <td>1</td>\n    </tr>\n    <tr>\n      <th>1</th>\n      <td>2</td>\n      <td>15647311</td>\n      <td>Hill</td>\n      <td>608</td>\n      <td>Spain</td>\n      <td>Female</td>\n      <td>41</td>\n      <td>1</td>\n      <td>83807.86</td>\n      <td>1</td>\n      <td>0</td>\n      <td>1</td>\n      <td>112542.58</td>\n      <td>0</td>\n    </tr>\n    <tr>\n      <th>2</th>\n      <td>3</td>\n      <td>15619304</td>\n      <td>Onio</td>\n      <td>502</td>\n      <td>France</td>\n      <td>Female</td>\n      <td>42</td>\n      <td>8</td>\n      <td>159660.80</td>\n      <td>3</td>\n      <td>1</td>\n      <td>0</td>\n      <td>113931.57</td>\n      <td>1</td>\n    </tr>\n    <tr>\n      <th>3</th>\n      <td>4</td>\n      <td>15701354</td>\n      <td>Boni</td>\n      <td>699</td>\n      <td>France</td>\n      <td>Female</td>\n      <td>39</td>\n      <td>1</td>\n      <td>0.00</td>\n      <td>2</td>\n      <td>0</td>\n      <td>0</td>\n      <td>93826.63</td>\n      <td>0</td>\n    </tr>\n    <tr>\n      <th>4</th>\n      <td>5</td>\n      <td>15737888</td>\n      <td>Mitchell</td>\n      <td>850</td>\n      <td>Spain</td>\n      <td>Female</td>\n      <td>43</td>\n      <td>2</td>\n      <td>125510.82</td>\n      <td>1</td>\n      <td>1</td>\n      <td>1</td>\n      <td>79084.10</td>\n      <td>0</td>\n    </tr>\n  </tbody>\n</table>\n</div>"
     },
     "execution_count": 2,
     "metadata": {},
     "output_type": "execute_result"
    }
   ],
   "source": [
    "df = pd.read_csv('https://raw.githubusercontent.com/jdecorte/machinelearning/main/datasets/churn_modelling.csv')\n",
    "df.head()"
   ]
  },
  {
   "cell_type": "markdown",
   "metadata": {
    "id": "PoZMt4fBu_7R",
    "pycharm": {
     "name": "#%% md\n"
    }
   },
   "source": [
    "What are the dimensions of the datasets?"
   ]
  },
  {
   "cell_type": "code",
   "execution_count": 3,
   "metadata": {
    "colab": {
     "base_uri": "https://localhost:8080/"
    },
    "id": "gu96SUXIvtVp",
    "outputId": "2771d8d7-1636-4b1b-9466-583bc713d4a2",
    "pycharm": {
     "name": "#%%\n"
    }
   },
   "outputs": [
    {
     "data": {
      "text/plain": "(10000, 14)"
     },
     "execution_count": 3,
     "metadata": {},
     "output_type": "execute_result"
    }
   ],
   "source": [
    "df.shape"
   ]
  },
  {
   "cell_type": "markdown",
   "metadata": {
    "id": "gRPEvj9Fz0v1",
    "pycharm": {
     "name": "#%% md\n"
    }
   },
   "source": [
    "Is this a skewed dataset?"
   ]
  },
  {
   "cell_type": "code",
   "execution_count": 4,
   "metadata": {
    "colab": {
     "base_uri": "https://localhost:8080/"
    },
    "id": "fUVf9c2Pz4Fq",
    "outputId": "bddbb4bf-7ff6-4d9c-cc4d-e204cb5a3ae7",
    "pycharm": {
     "name": "#%%\n"
    }
   },
   "outputs": [
    {
     "data": {
      "text/plain": "0    7963\n1    2037\nName: Exited, dtype: int64"
     },
     "execution_count": 4,
     "metadata": {},
     "output_type": "execute_result"
    }
   ],
   "source": [
    "df['Exited'].value_counts()"
   ]
  },
  {
   "cell_type": "markdown",
   "metadata": {
    "id": "u_Okz9HpVwrs",
    "pycharm": {
     "name": "#%% md\n"
    }
   },
   "source": [
    "Drop the columns RowNumber, CustomerId and Surname"
   ]
  },
  {
   "cell_type": "code",
   "execution_count": 5,
   "metadata": {
    "id": "COu29D2QVv49",
    "pycharm": {
     "name": "#%%\n"
    }
   },
   "outputs": [],
   "source": [
    "df = df.drop(['RowNumber','CustomerId','Surname'],axis=1)"
   ]
  },
  {
   "cell_type": "markdown",
   "metadata": {
    "id": "6rwj9YHWWEKF",
    "pycharm": {
     "name": "#%% md\n"
    }
   },
   "source": [
    "What are the different values for Geography?"
   ]
  },
  {
   "cell_type": "code",
   "execution_count": 6,
   "metadata": {
    "colab": {
     "base_uri": "https://localhost:8080/"
    },
    "id": "HjwJQqlsWCN4",
    "outputId": "8174727f-874e-40a8-a128-80ee7e404ae4",
    "pycharm": {
     "name": "#%%\n"
    }
   },
   "outputs": [
    {
     "data": {
      "text/plain": "France     5014\nGermany    2509\nSpain      2477\nName: Geography, dtype: int64"
     },
     "execution_count": 6,
     "metadata": {},
     "output_type": "execute_result"
    }
   ],
   "source": [
    "df['Geography'].value_counts()"
   ]
  },
  {
   "cell_type": "markdown",
   "metadata": {
    "id": "bgSmTrrTWedU",
    "pycharm": {
     "name": "#%% md\n"
    }
   },
   "source": [
    "Use one-hot encoding to replace Gender and Geography."
   ]
  },
  {
   "cell_type": "code",
   "execution_count": 7,
   "metadata": {
    "colab": {
     "base_uri": "https://localhost:8080/",
     "height": 206
    },
    "id": "u9u3w17IWdvf",
    "outputId": "202b2a84-0b18-4bf7-fa3a-94b96b69ea1a",
    "pycharm": {
     "name": "#%%\n"
    }
   },
   "outputs": [
    {
     "data": {
      "text/plain": "   CreditScore  Age  Tenure    Balance  NumOfProducts  HasCrCard  \\\n0          619   42       2       0.00              1          1   \n1          608   41       1   83807.86              1          0   \n2          502   42       8  159660.80              3          1   \n3          699   39       1       0.00              2          0   \n4          850   43       2  125510.82              1          1   \n\n   IsActiveMember  EstimatedSalary  Exited  Geography_France  \\\n0               1        101348.88       1                 1   \n1               1        112542.58       0                 0   \n2               0        113931.57       1                 1   \n3               0         93826.63       0                 1   \n4               1         79084.10       0                 0   \n\n   Geography_Germany  Geography_Spain  Gender_Female  Gender_Male  \n0                  0                0              1            0  \n1                  0                1              1            0  \n2                  0                0              1            0  \n3                  0                0              1            0  \n4                  0                1              1            0  ",
      "text/html": "<div>\n<style scoped>\n    .dataframe tbody tr th:only-of-type {\n        vertical-align: middle;\n    }\n\n    .dataframe tbody tr th {\n        vertical-align: top;\n    }\n\n    .dataframe thead th {\n        text-align: right;\n    }\n</style>\n<table border=\"1\" class=\"dataframe\">\n  <thead>\n    <tr style=\"text-align: right;\">\n      <th></th>\n      <th>CreditScore</th>\n      <th>Age</th>\n      <th>Tenure</th>\n      <th>Balance</th>\n      <th>NumOfProducts</th>\n      <th>HasCrCard</th>\n      <th>IsActiveMember</th>\n      <th>EstimatedSalary</th>\n      <th>Exited</th>\n      <th>Geography_France</th>\n      <th>Geography_Germany</th>\n      <th>Geography_Spain</th>\n      <th>Gender_Female</th>\n      <th>Gender_Male</th>\n    </tr>\n  </thead>\n  <tbody>\n    <tr>\n      <th>0</th>\n      <td>619</td>\n      <td>42</td>\n      <td>2</td>\n      <td>0.00</td>\n      <td>1</td>\n      <td>1</td>\n      <td>1</td>\n      <td>101348.88</td>\n      <td>1</td>\n      <td>1</td>\n      <td>0</td>\n      <td>0</td>\n      <td>1</td>\n      <td>0</td>\n    </tr>\n    <tr>\n      <th>1</th>\n      <td>608</td>\n      <td>41</td>\n      <td>1</td>\n      <td>83807.86</td>\n      <td>1</td>\n      <td>0</td>\n      <td>1</td>\n      <td>112542.58</td>\n      <td>0</td>\n      <td>0</td>\n      <td>0</td>\n      <td>1</td>\n      <td>1</td>\n      <td>0</td>\n    </tr>\n    <tr>\n      <th>2</th>\n      <td>502</td>\n      <td>42</td>\n      <td>8</td>\n      <td>159660.80</td>\n      <td>3</td>\n      <td>1</td>\n      <td>0</td>\n      <td>113931.57</td>\n      <td>1</td>\n      <td>1</td>\n      <td>0</td>\n      <td>0</td>\n      <td>1</td>\n      <td>0</td>\n    </tr>\n    <tr>\n      <th>3</th>\n      <td>699</td>\n      <td>39</td>\n      <td>1</td>\n      <td>0.00</td>\n      <td>2</td>\n      <td>0</td>\n      <td>0</td>\n      <td>93826.63</td>\n      <td>0</td>\n      <td>1</td>\n      <td>0</td>\n      <td>0</td>\n      <td>1</td>\n      <td>0</td>\n    </tr>\n    <tr>\n      <th>4</th>\n      <td>850</td>\n      <td>43</td>\n      <td>2</td>\n      <td>125510.82</td>\n      <td>1</td>\n      <td>1</td>\n      <td>1</td>\n      <td>79084.10</td>\n      <td>0</td>\n      <td>0</td>\n      <td>0</td>\n      <td>1</td>\n      <td>1</td>\n      <td>0</td>\n    </tr>\n  </tbody>\n</table>\n</div>"
     },
     "execution_count": 7,
     "metadata": {},
     "output_type": "execute_result"
    }
   ],
   "source": [
    "df = pd.get_dummies(df,columns=['Geography','Gender'],prefix=['Geography','Gender'])\n",
    "df.head()"
   ]
  },
  {
   "cell_type": "code",
   "execution_count": null,
   "metadata": {
    "id": "qfrkXeHSW4S9",
    "pycharm": {
     "name": "#%%\n"
    }
   },
   "outputs": [],
   "source": []
  },
  {
   "cell_type": "markdown",
   "metadata": {
    "id": "pRTEhuSr9zag",
    "pycharm": {
     "name": "#%% md\n"
    }
   },
   "source": [
    "Make sure you understand this function. We will use is later on to evaluate the ANN."
   ]
  },
  {
   "cell_type": "code",
   "execution_count": 17,
   "metadata": {
    "id": "o_2arcO2yiR2",
    "pycharm": {
     "name": "#%%\n"
    }
   },
   "outputs": [],
   "source": [
    "def plot_history(history):\n",
    "  plt.figure(figsize = (12,4))\n",
    "  plt.subplot(1,2,1)\n",
    "\n",
    "  plt.xlabel('Epoch')\n",
    "  plt.ylabel('Accuracy')\n",
    "  plt.plot(history.epoch, np.array(history.history['accuracy']),'g-',\n",
    "           label='Train accuracy')\n",
    "  plt.plot(history.epoch, np.array(history.history['val_accuracy']),'r-',\n",
    "           label = 'Validation accuracy')\n",
    "  plt.legend()\n",
    "\n",
    "  plt.subplot(1,2,2)\n",
    "  plt.xlabel('Epoch')\n",
    "  plt.ylabel('Loss minimised by model')\n",
    "  plt.plot(history.epoch, np.array(history.history['loss']),'g-',\n",
    "           label='Train loss')\n",
    "  plt.plot(history.epoch, np.array(history.history['val_loss']),'r-',\n",
    "           label = 'Validation loss')\n",
    "  plt.legend()"
   ]
  },
  {
   "cell_type": "markdown",
   "metadata": {
    "id": "O3gSSfm9WkLQ",
    "pycharm": {
     "name": "#%% md\n"
    }
   },
   "source": [
    "What is X and what is y?"
   ]
  },
  {
   "cell_type": "code",
   "execution_count": 8,
   "metadata": {
    "id": "Kr9_Xm8OJs8F",
    "pycharm": {
     "name": "#%%\n"
    }
   },
   "outputs": [],
   "source": [
    "X = df.drop(['Exited'],axis=1)\n",
    "y = df['Exited']"
   ]
  },
  {
   "cell_type": "markdown",
   "metadata": {
    "id": "s7n0sO0PWov_",
    "pycharm": {
     "name": "#%% md\n"
    }
   },
   "source": [
    "What is X_train, y_train, X_test, y_test?"
   ]
  },
  {
   "cell_type": "code",
   "execution_count": 9,
   "metadata": {
    "id": "IA_DKfYRKsq3",
    "pycharm": {
     "name": "#%%\n"
    }
   },
   "outputs": [],
   "source": [
    "from sklearn.model_selection import train_test_split\n",
    "X_train, X_test, y_train,y_test = train_test_split(X,y,test_size=0.15,random_state=42)"
   ]
  },
  {
   "cell_type": "markdown",
   "metadata": {
    "id": "XCHe3JqRWrFX",
    "pycharm": {
     "name": "#%% md\n"
    }
   },
   "source": [
    "What is X_train, y_train, X_val, y_val?"
   ]
  },
  {
   "cell_type": "code",
   "execution_count": 10,
   "metadata": {
    "id": "mrAdQRBHK0sH",
    "pycharm": {
     "name": "#%%\n"
    }
   },
   "outputs": [],
   "source": [
    "X_train,X_val,y_train,y_val = train_test_split(X_train,y_train,test_size=0.15,random_state=42)"
   ]
  },
  {
   "cell_type": "markdown",
   "metadata": {
    "id": "u4ts-oEUWyMm",
    "pycharm": {
     "name": "#%% md\n"
    }
   },
   "source": [
    "What are the dimensions of X_train, X_val, X_test, y_train, y_val, y_test?"
   ]
  },
  {
   "cell_type": "code",
   "execution_count": 11,
   "metadata": {
    "colab": {
     "base_uri": "https://localhost:8080/"
    },
    "id": "5xtda5DVK98F",
    "outputId": "2e2f2c58-eb4d-4ab0-8378-ca68f652f0af",
    "pycharm": {
     "name": "#%%\n"
    }
   },
   "outputs": [
    {
     "name": "stdout",
     "output_type": "stream",
     "text": [
      "(7225, 13)\n",
      "(1275, 13)\n",
      "(1500, 13)\n",
      "(7225,)\n",
      "(1275,)\n",
      "(1500,)\n"
     ]
    }
   ],
   "source": [
    "print(X_train.shape)\n",
    "print(X_val.shape)\n",
    "print(X_test.shape)\n",
    "\n",
    "print(y_train.shape)\n",
    "print(y_val.shape)\n",
    "print(y_test.shape)\n"
   ]
  },
  {
   "cell_type": "markdown",
   "metadata": {
    "id": "vL83lw5TXgSp",
    "pycharm": {
     "name": "#%% md\n"
    }
   },
   "source": [
    "Standardize the data before providing it as training data.  \n",
    "You should only use the training data to fit the scaler transformation\n",
    "and use the same fitted object to transform the validation and test input\n",
    "data."
   ]
  },
  {
   "cell_type": "code",
   "execution_count": 12,
   "metadata": {
    "id": "7TgXTCmYLtat",
    "pycharm": {
     "name": "#%%\n"
    }
   },
   "outputs": [],
   "source": [
    "from sklearn.preprocessing import StandardScaler\n",
    "\n",
    "scaler= StandardScaler()\n",
    "scaler.fit(X_train)\n",
    "\n",
    "X_train_scaled = scaler.transform(X_train)\n",
    "X_test_scaled = scaler.transform(X_test)\n",
    "X_val_scaled = scaler.transform(X_val)"
   ]
  },
  {
   "cell_type": "markdown",
   "metadata": {
    "id": "o4Le__cyMD7o",
    "pycharm": {
     "name": "#%% md\n"
    }
   },
   "source": [
    "* First create a small ANN model.  \n",
    "* Add BatchNormalization\n",
    "* Add Dropout\n",
    "* Evaluate the results after each fine tuning.\n"
   ]
  },
  {
   "cell_type": "code",
   "execution_count": 13,
   "metadata": {
    "id": "XKNOIpVi9zai",
    "pycharm": {
     "name": "#%%\n"
    }
   },
   "outputs": [],
   "source": [
    "import tensorflow as tf\n",
    "from tensorflow import keras\n",
    "\n",
    "model = keras.models.Sequential()\n",
    "\n",
    "model.add(keras.layers.Dense(128,activation=\"relu\",input_dim = X_train_scaled.shape[1]))\n",
    "\n",
    "model.add(keras.layers.Dropout(rate=0.2))\n",
    "model.add(keras.layers.BatchNormalization())\n",
    "\n",
    "model.add(keras.layers.Dense(64,activation=\"relu\"))\n",
    "model.add(keras.layers.Dropout(rate=0.4))\n",
    "model.add(keras.layers.BatchNormalization())\n",
    "\n",
    "model.add(keras.layers.Dense(64,activation=\"relu\"))\n",
    "model.add(keras.layers.Dropout(rate=0.4))\n",
    "model.add(keras.layers.BatchNormalization())\n",
    "\n",
    "\n",
    "model.add(keras.layers.Dense(1,activation='sigmoid'))\n"
   ]
  },
  {
   "cell_type": "code",
   "execution_count": 14,
   "metadata": {
    "id": "dvT2rqWt9zai",
    "pycharm": {
     "name": "#%%\n"
    }
   },
   "outputs": [],
   "source": [
    "model.compile(loss='binary_crossentropy',optimizer=\"adam\",metrics=[\"accuracy\"])"
   ]
  },
  {
   "cell_type": "code",
   "execution_count": 15,
   "metadata": {
    "id": "1sFRoZba9zai",
    "outputId": "c23d6fda-b5cf-45ab-a462-c004d500b70c",
    "pycharm": {
     "name": "#%%\n"
    }
   },
   "outputs": [
    {
     "name": "stdout",
     "output_type": "stream",
     "text": [
      "Epoch 1/30\n",
      "113/113 [==============================] - 1s 4ms/step - loss: 0.6602 - accuracy: 0.6585 - val_loss: 0.4909 - val_accuracy: 0.7875\n",
      "Epoch 2/30\n",
      "113/113 [==============================] - 0s 2ms/step - loss: 0.5149 - accuracy: 0.7642 - val_loss: 0.4379 - val_accuracy: 0.8016\n",
      "Epoch 3/30\n",
      "113/113 [==============================] - 0s 2ms/step - loss: 0.4696 - accuracy: 0.7957 - val_loss: 0.4037 - val_accuracy: 0.8314\n",
      "Epoch 4/30\n",
      "113/113 [==============================] - 0s 2ms/step - loss: 0.4429 - accuracy: 0.8107 - val_loss: 0.3809 - val_accuracy: 0.8494\n",
      "Epoch 5/30\n",
      "113/113 [==============================] - 0s 2ms/step - loss: 0.4192 - accuracy: 0.8149 - val_loss: 0.3681 - val_accuracy: 0.8596\n",
      "Epoch 6/30\n",
      "113/113 [==============================] - 0s 2ms/step - loss: 0.4013 - accuracy: 0.8249 - val_loss: 0.3608 - val_accuracy: 0.8580\n",
      "Epoch 7/30\n",
      "113/113 [==============================] - 0s 2ms/step - loss: 0.3978 - accuracy: 0.8246 - val_loss: 0.3602 - val_accuracy: 0.8573\n",
      "Epoch 8/30\n",
      "113/113 [==============================] - 0s 2ms/step - loss: 0.3876 - accuracy: 0.8299 - val_loss: 0.3608 - val_accuracy: 0.8588\n",
      "Epoch 9/30\n",
      "113/113 [==============================] - 0s 2ms/step - loss: 0.3876 - accuracy: 0.8336 - val_loss: 0.3561 - val_accuracy: 0.8604\n",
      "Epoch 10/30\n",
      "113/113 [==============================] - 0s 2ms/step - loss: 0.3776 - accuracy: 0.8397 - val_loss: 0.3564 - val_accuracy: 0.8612\n",
      "Epoch 11/30\n",
      "113/113 [==============================] - 0s 2ms/step - loss: 0.3732 - accuracy: 0.8396 - val_loss: 0.3553 - val_accuracy: 0.8596\n",
      "Epoch 12/30\n",
      "113/113 [==============================] - 0s 2ms/step - loss: 0.3690 - accuracy: 0.8457 - val_loss: 0.3557 - val_accuracy: 0.8596\n",
      "Epoch 13/30\n",
      "113/113 [==============================] - 0s 2ms/step - loss: 0.3700 - accuracy: 0.8429 - val_loss: 0.3548 - val_accuracy: 0.8588\n",
      "Epoch 14/30\n",
      "113/113 [==============================] - 0s 2ms/step - loss: 0.3674 - accuracy: 0.8484 - val_loss: 0.3518 - val_accuracy: 0.8612\n",
      "Epoch 15/30\n",
      "113/113 [==============================] - 0s 2ms/step - loss: 0.3614 - accuracy: 0.8454 - val_loss: 0.3532 - val_accuracy: 0.8580\n",
      "Epoch 16/30\n",
      "113/113 [==============================] - 0s 2ms/step - loss: 0.3667 - accuracy: 0.8428 - val_loss: 0.3532 - val_accuracy: 0.8588\n",
      "Epoch 17/30\n",
      "113/113 [==============================] - 0s 2ms/step - loss: 0.3586 - accuracy: 0.8483 - val_loss: 0.3503 - val_accuracy: 0.8573\n",
      "Epoch 18/30\n",
      "113/113 [==============================] - 0s 2ms/step - loss: 0.3562 - accuracy: 0.8516 - val_loss: 0.3509 - val_accuracy: 0.8612\n",
      "Epoch 19/30\n",
      "113/113 [==============================] - 0s 2ms/step - loss: 0.3544 - accuracy: 0.8522 - val_loss: 0.3522 - val_accuracy: 0.8643\n",
      "Epoch 20/30\n",
      "113/113 [==============================] - 0s 2ms/step - loss: 0.3546 - accuracy: 0.8536 - val_loss: 0.3494 - val_accuracy: 0.8651\n",
      "Epoch 21/30\n",
      "113/113 [==============================] - 0s 2ms/step - loss: 0.3560 - accuracy: 0.8501 - val_loss: 0.3558 - val_accuracy: 0.8565\n",
      "Epoch 22/30\n",
      "113/113 [==============================] - 0s 2ms/step - loss: 0.3504 - accuracy: 0.8537 - val_loss: 0.3545 - val_accuracy: 0.8580\n",
      "Epoch 23/30\n",
      "113/113 [==============================] - 0s 2ms/step - loss: 0.3480 - accuracy: 0.8548 - val_loss: 0.3545 - val_accuracy: 0.8596\n",
      "Epoch 24/30\n",
      "113/113 [==============================] - 0s 2ms/step - loss: 0.3484 - accuracy: 0.8554 - val_loss: 0.3546 - val_accuracy: 0.8596\n",
      "Epoch 25/30\n",
      "113/113 [==============================] - 0s 2ms/step - loss: 0.3527 - accuracy: 0.8526 - val_loss: 0.3540 - val_accuracy: 0.8620\n",
      "Epoch 26/30\n",
      "113/113 [==============================] - 0s 2ms/step - loss: 0.3480 - accuracy: 0.8565 - val_loss: 0.3512 - val_accuracy: 0.8643\n",
      "Epoch 27/30\n",
      "113/113 [==============================] - 0s 2ms/step - loss: 0.3455 - accuracy: 0.8567 - val_loss: 0.3516 - val_accuracy: 0.8651\n",
      "Epoch 28/30\n",
      "113/113 [==============================] - 0s 2ms/step - loss: 0.3478 - accuracy: 0.8558 - val_loss: 0.3562 - val_accuracy: 0.8620\n",
      "Epoch 29/30\n",
      "113/113 [==============================] - 0s 2ms/step - loss: 0.3421 - accuracy: 0.8590 - val_loss: 0.3545 - val_accuracy: 0.8620\n",
      "Epoch 30/30\n",
      "113/113 [==============================] - 0s 2ms/step - loss: 0.3402 - accuracy: 0.8594 - val_loss: 0.3530 - val_accuracy: 0.8659\n"
     ]
    }
   ],
   "source": [
    "history = model.fit(X_train_scaled,y_train,epochs=30,batch_size=64,validation_data=(X_val_scaled,y_val))"
   ]
  },
  {
   "cell_type": "code",
   "execution_count": 18,
   "outputs": [
    {
     "data": {
      "text/plain": "<Figure size 864x288 with 2 Axes>",
      "image/png": "[encoded data removed]"
     },
     "metadata": {
      "needs_background": "light"
     },
     "output_type": "display_data"
    }
   ],
   "source": [
    "plot_history(history)"
   ],
   "metadata": {
    "collapsed": false,
    "pycharm": {
     "name": "#%%\n"
    }
   }
  },
  {
   "cell_type": "code",
   "execution_count": null,
   "outputs": [],
   "source": [],
   "metadata": {
    "collapsed": false,
    "pycharm": {
     "name": "#%%\n"
    }
   }
  }
 ],
 "metadata": {
  "colab": {
   "collapsed_sections": [],
   "name": "Chapter 11 Exercise Churn Modelling Solution.ipynb",
   "provenance": []
  },
  "kernelspec": {
   "display_name": "Python 3",
   "name": "python3"
  },
  "language_info": {
   "codemirror_mode": {
    "name": "ipython",
    "version": 3
   },
   "file_extension": ".py",
   "mimetype": "text/x-python",
   "name": "python",
   "nbconvert_exporter": "python",
   "pygments_lexer": "ipython3",
   "version": "3.9.12"
  }
 },
 "nbformat": 4,
 "nbformat_minor": 0
}