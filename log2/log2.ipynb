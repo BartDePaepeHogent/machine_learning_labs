{
 "cells": [
  {
   "cell_type": "markdown",
   "source": [
    "depth of decision trees without parameters"
   ],
   "metadata": {
    "collapsed": false,
    "pycharm": {
     "name": "#%% md\n"
    }
   }
  },
  {
   "cell_type": "code",
   "execution_count": 1,
   "outputs": [
    {
     "name": "stdout",
     "output_type": "stream",
     "text": [
      "depth for 1000000 samples = 19.931568569324174\n"
     ]
    }
   ],
   "source": [
    "import math\n",
    "\n",
    "n_samples = 1000000\n",
    "depth = math.log2(n_samples)\n",
    "print(f\"depth for {n_samples} samples = {depth}\")"
   ],
   "metadata": {
    "collapsed": false,
    "pycharm": {
     "name": "#%%\n"
    }
   }
  }
 ],
 "metadata": {
  "kernelspec": {
   "display_name": "Python 3",
   "language": "python",
   "name": "python3"
  },
  "language_info": {
   "codemirror_mode": {
    "name": "ipython",
    "version": 2
   },
   "file_extension": ".py",
   "mimetype": "text/x-python",
   "name": "python",
   "nbconvert_exporter": "python",
   "pygments_lexer": "ipython2",
   "version": "2.7.6"
  }
 },
 "nbformat": 4,
 "nbformat_minor": 0
}