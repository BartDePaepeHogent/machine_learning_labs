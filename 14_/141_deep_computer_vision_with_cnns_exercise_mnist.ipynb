{
 "cells": [
  {
   "cell_type": "markdown",
   "metadata": {
    "id": "T6P4gMX5zMxN",
    "pycharm": {
     "name": "#%% md\n"
    }
   },
   "source": [
    "Build your own CNN from scratch and try to achieve the highest possible accuracy on MNIST. Try to do better than the model we build before without CNN."
   ]
  },
  {
   "cell_type": "code",
   "execution_count": 60,
   "outputs": [
    {
     "name": "stdout",
     "output_type": "stream",
     "text": [
      "2.9.1\n"
     ]
    }
   ],
   "source": [
    "try:\n",
    "  # %tensorflow_version only exists in Colab.\n",
    "  %tensorflow_version 2.x\n",
    "except Exception:\n",
    "  pass\n",
    "\n",
    "# TensorFlow and tf.keras\n",
    "import tensorflow as tf\n",
    "from tensorflow import keras\n",
    "\n",
    "print(tf.__version__)\n",
    "\n",
    "# Helper libraries\n",
    "import numpy as np\n",
    "import matplotlib.pyplot as plt\n",
    "import sklearn as sk\n",
    "import pandas as pd\n",
    "\n",
    "# fix random seed for reproducibility\n",
    "seed = 42\n",
    "np.random.seed(seed)\n",
    "tf.random.set_seed(seed)\n",
    "\n",
    "import sklearn as sk\n",
    "from sklearn.model_selection import train_test_split\n",
    "\n",
    "from tensorflow import keras\n",
    "from keras.datasets import mnist\n",
    "from keras.models import Sequential\n",
    "from keras.layers import Dense, Dropout, Flatten, Embedding, Conv1D,  MaxPooling1D, GlobalMaxPooling1D\n",
    "from keras.optimizers import Adam\n",
    "from keras.constraints import max_norm\n",
    "from keras.models import load_model\n"
   ],
   "metadata": {
    "collapsed": false,
    "pycharm": {
     "name": "#%%\n"
    }
   }
  },
  {
   "cell_type": "code",
   "execution_count": 61,
   "outputs": [],
   "source": [
    "(X_train_full, y_train_full), (X_test, y_test) = keras.datasets.mnist.load_data()\n",
    "\n",
    "X_valid, X_train = X_train_full[:5000] / 255., X_train_full[5000:] / 255.\n",
    "y_valid, y_train = y_train_full[:5000], y_train_full[5000:]\n",
    "X_test = X_test / 255."
   ],
   "metadata": {
    "collapsed": false,
    "pycharm": {
     "name": "#%%\n"
    }
   }
  },
  {
   "cell_type": "code",
   "execution_count": 62,
   "outputs": [
    {
     "data": {
      "text/plain": "(55000, 28, 28)"
     },
     "execution_count": 62,
     "metadata": {},
     "output_type": "execute_result"
    }
   ],
   "source": [
    "X_train.shape"
   ],
   "metadata": {
    "collapsed": false,
    "pycharm": {
     "name": "#%%\n"
    }
   }
  },
  {
   "cell_type": "code",
   "execution_count": 63,
   "outputs": [],
   "source": [
    "X_test = X_test[..., np.newaxis]\n",
    "X_valid = X_valid[..., np.newaxis]\n",
    "X_train = X_train[..., np.newaxis]"
   ],
   "metadata": {
    "collapsed": false,
    "pycharm": {
     "name": "#%%\n"
    }
   }
  },
  {
   "cell_type": "code",
   "execution_count": 64,
   "outputs": [
    {
     "data": {
      "text/plain": "(55000, 28, 28, 1)"
     },
     "execution_count": 64,
     "metadata": {},
     "output_type": "execute_result"
    }
   ],
   "source": [
    "X_train.shape"
   ],
   "metadata": {
    "collapsed": false,
    "pycharm": {
     "name": "#%%\n"
    }
   }
  },
  {
   "cell_type": "code",
   "execution_count": 65,
   "outputs": [],
   "source": [
    "keras.backend.clear_session()\n",
    "tf.random.set_seed(42)\n",
    "np.random.seed(42)\n",
    "from functools import partial\n",
    "\n",
    "DefaultConv2D = partial(keras.layers.Conv2D,\n",
    "                        kernel_size=3, activation='relu', padding=\"SAME\")\n",
    "\n",
    "model = keras.models.Sequential([\n",
    "    keras.layers.Conv2D(32, kernel_size=3, activation=\"relu\", padding=\"SAME\"),\n",
    "    keras.layers.Conv2D(64, kernel_size=3, activation=\"relu\", padding=\"SAME\"),\n",
    "    keras.layers.MaxPooling2D(),\n",
    "    keras.layers.Flatten(),\n",
    "    keras.layers.Dropout(0.25),\n",
    "    keras.layers.Dense(128, activation='relu'),\n",
    "    keras.layers.Dropout(0.5),\n",
    "    keras.layers.Dense(10, activation='softmax'),\n",
    "])"
   ],
   "metadata": {
    "collapsed": false,
    "pycharm": {
     "name": "#%%\n"
    }
   }
  },
  {
   "cell_type": "code",
   "execution_count": 66,
   "outputs": [
    {
     "name": "stdout",
     "output_type": "stream",
     "text": [
      "Epoch 1/10\n",
      "1719/1719 [==============================] - 67s 39ms/step - loss: 0.1923 - accuracy: 0.9425 - val_loss: 0.0568 - val_accuracy: 0.9840\n",
      "Epoch 2/10\n",
      "1719/1719 [==============================] - 82s 47ms/step - loss: 0.0800 - accuracy: 0.9762 - val_loss: 0.0412 - val_accuracy: 0.9878\n",
      "Epoch 3/10\n",
      "1719/1719 [==============================] - 83s 48ms/step - loss: 0.0614 - accuracy: 0.9819 - val_loss: 0.0351 - val_accuracy: 0.9904\n",
      "Epoch 4/10\n",
      "1719/1719 [==============================] - 84s 49ms/step - loss: 0.0484 - accuracy: 0.9852 - val_loss: 0.0378 - val_accuracy: 0.9900\n",
      "Epoch 5/10\n",
      "1719/1719 [==============================] - 80s 46ms/step - loss: 0.0422 - accuracy: 0.9867 - val_loss: 0.0410 - val_accuracy: 0.9898\n",
      "Epoch 6/10\n",
      "1719/1719 [==============================] - 83s 48ms/step - loss: 0.0363 - accuracy: 0.9884 - val_loss: 0.0333 - val_accuracy: 0.9922\n",
      "Epoch 7/10\n",
      "1719/1719 [==============================] - 85s 50ms/step - loss: 0.0311 - accuracy: 0.9901 - val_loss: 0.0326 - val_accuracy: 0.9910\n",
      "Epoch 8/10\n",
      "1719/1719 [==============================] - 85s 50ms/step - loss: 0.0281 - accuracy: 0.9908 - val_loss: 0.0356 - val_accuracy: 0.9914\n",
      "Epoch 9/10\n",
      "1719/1719 [==============================] - 78s 45ms/step - loss: 0.0265 - accuracy: 0.9912 - val_loss: 0.0324 - val_accuracy: 0.9928\n",
      "Epoch 10/10\n",
      "1719/1719 [==============================] - 83s 48ms/step - loss: 0.0241 - accuracy: 0.9924 - val_loss: 0.0353 - val_accuracy: 0.9904\n",
      "313/313 [==============================] - 3s 9ms/step - loss: 0.0266 - accuracy: 0.9928\n"
     ]
    },
    {
     "data": {
      "text/plain": "[0.026645340025424957, 0.9927999973297119]"
     },
     "execution_count": 66,
     "metadata": {},
     "output_type": "execute_result"
    }
   ],
   "source": [
    "model.compile(loss=\"sparse_categorical_crossentropy\", optimizer=\"nadam\", metrics=[\"accuracy\"])\n",
    "history = model.fit(X_train, y_train, epochs=10, validation_data=(X_valid, y_valid))\n",
    "model.evaluate(X_test, y_test)\n"
   ],
   "metadata": {
    "collapsed": false,
    "pycharm": {
     "name": "#%%\n"
    }
   }
  },
  {
   "cell_type": "code",
   "execution_count": 67,
   "outputs": [
    {
     "name": "stdout",
     "output_type": "stream",
     "text": [
      "1/1 [==============================] - 0s 63ms/step\n"
     ]
    }
   ],
   "source": [
    "X_new = X_test[:10] # pretend we have new images\n",
    "y_pred = model.predict(X_new)"
   ],
   "metadata": {
    "collapsed": false,
    "pycharm": {
     "name": "#%%\n"
    }
   }
  },
  {
   "cell_type": "code",
   "execution_count": 69,
   "outputs": [
    {
     "data": {
      "text/plain": "array([8.8807885e-12, 4.0919366e-09, 1.5734682e-07, 6.6517096e-08,\n       5.3039884e-10, 3.5652245e-10, 2.3606483e-14, 9.9999952e-01,\n       6.7019290e-10, 2.0640148e-07], dtype=float32)"
     },
     "execution_count": 69,
     "metadata": {},
     "output_type": "execute_result"
    }
   ],
   "source": [
    "y_pred[0]"
   ],
   "metadata": {
    "collapsed": false,
    "pycharm": {
     "name": "#%%\n"
    }
   }
  },
  {
   "cell_type": "code",
   "execution_count": null,
   "outputs": [],
   "source": [],
   "metadata": {
    "collapsed": false,
    "pycharm": {
     "name": "#%%\n"
    }
   }
  }
 ],
 "metadata": {
  "language_info": {
   "name": "python"
  },
  "orig_nbformat": 4,
  "colab": {
   "name": "141-deep_computer_vision_with_cnns_exercise_mnist.ipynb",
   "provenance": []
  }
 },
 "nbformat": 4,
 "nbformat_minor": 0
}