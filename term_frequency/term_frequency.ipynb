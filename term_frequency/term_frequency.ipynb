{
 "cells": [
  {
   "cell_type": "code",
   "execution_count": 1,
   "outputs": [
    {
     "name": "stdout",
     "output_type": "stream",
     "text": [
      "tf_idf: 0.3521825181113625\n"
     ]
    }
   ],
   "source": [
    "import math\n",
    "\n",
    "number_of_texts = 3\n",
    "number_of_occurences = 2\n",
    "term_frequency = number_of_occurences\n",
    "inverse_document_frequency = math.log10(number_of_texts / number_of_occurences)\n",
    "tf_idf = term_frequency * inverse_document_frequency\n",
    "print(f\"tf_idf: {tf_idf}\")"
   ],
   "metadata": {
    "collapsed": false,
    "pycharm": {
     "name": "#%%\n"
    }
   }
  },
  {
   "cell_type": "code",
   "execution_count": null,
   "outputs": [],
   "source": [
    "# hoe groter de tf_idf, des te meer bepalend woord voor analyse van documenten onderling"
   ],
   "metadata": {
    "collapsed": false,
    "pycharm": {
     "name": "#%%\n"
    }
   }
  }
 ],
 "metadata": {
  "kernelspec": {
   "display_name": "Python 3",
   "language": "python",
   "name": "python3"
  },
  "language_info": {
   "codemirror_mode": {
    "name": "ipython",
    "version": 2
   },
   "file_extension": ".py",
   "mimetype": "text/x-python",
   "name": "python",
   "nbconvert_exporter": "python",
   "pygments_lexer": "ipython2",
   "version": "2.7.6"
  }
 },
 "nbformat": 4,
 "nbformat_minor": 0
}