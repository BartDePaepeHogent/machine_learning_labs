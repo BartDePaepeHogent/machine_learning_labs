{
 "cells": [
  {
   "cell_type": "markdown",
   "metadata": {
    "id": "am0AM-ZHgbZs",
    "pycharm": {
     "name": "#%% md\n"
    }
   },
   "source": [
    "## Pre-trained word embeddings: exercise YELP\n",
    "\n",
    "Yelp is a review website (see e.g. https://nl.yelp.be/search?find_desc=&find_loc=gent&ns=1)\n",
    "\n",
    "- The file yelp_labelled.txt contains reviews. \n",
    "- If Label = 0, it's a review with a negative sentiment. \n",
    "- If Label = 1, it's a review with a positive sentiment.   \n",
    "\n",
    "Create an ANN model to predict the sentiment.\n",
    "  \n",
    "Filter out those reviews that aren't in English first."
   ]
  },
  {
   "cell_type": "code",
   "execution_count": 1,
   "metadata": {
    "colab": {
     "base_uri": "https://localhost:8080/"
    },
    "id": "CpMifYkx85is",
    "outputId": "67229ff1-0099-4f4b-a2a9-a8643e6bdd8a",
    "pycharm": {
     "name": "#%%\n"
    }
   },
   "outputs": [
    {
     "name": "stdout",
     "output_type": "stream",
     "text": [
      "2.9.1\n"
     ]
    }
   ],
   "source": [
    "try:\n",
    "  # %tensorflow_version only exists in Colab.\n",
    "  %tensorflow_version 2.x\n",
    "except Exception:\n",
    "  pass\n",
    "\n",
    "# TensorFlow and tf.keras\n",
    "import tensorflow as tf\n",
    "from tensorflow import keras\n",
    "\n",
    "print(tf.__version__)\n",
    "\n",
    "# Helper libraries\n",
    "import numpy as np\n",
    "import matplotlib.pyplot as plt\n",
    "import sklearn as sk\n",
    "import pandas as pd\n",
    "\n",
    "# fix random seed for reproducibility\n",
    "seed = 2020\n",
    "np.random.seed(seed)  \n",
    "\n",
    "import sklearn as sk\n",
    "from sklearn.model_selection import train_test_split\n",
    "from tensorflow import keras\n",
    "from keras.datasets import mnist\n",
    "from keras.models import Sequential\n",
    "from keras.layers import Dense, Dropout, Flatten, Embedding, Conv1D,  MaxPooling1D, GlobalMaxPooling1D\n",
    "from keras.optimizers import Adam\n",
    "from keras.constraints import max_norm\n",
    "from keras.models import load_model\n",
    "\n",
    "\n",
    "import nltk\n"
   ]
  },
  {
   "cell_type": "code",
   "execution_count": 2,
   "metadata": {
    "id": "_T5eone7gbZw",
    "pycharm": {
     "name": "#%%\n"
    }
   },
   "outputs": [],
   "source": [
    "# helper functions for visualisation\n",
    "# plotting the loss functions used in this notebook\n",
    "# we plot the loss we want to optimise on the left (in this case: accuracy)\n",
    "def plot_history(history):\n",
    "  plt.figure(figsize = (12,4))\n",
    "  plt.subplot(1,2,1)\n",
    "\n",
    "  plt.xlabel('Epoch')\n",
    "  plt.ylabel('Accuracy')\n",
    "  plt.plot(history.epoch, np.array(history.history['accuracy']),'g-',\n",
    "           label='Train accuracy')\n",
    "  plt.plot(history.epoch, np.array(history.history['val_accuracy']),'r-',\n",
    "           label = 'Validation accuracy')\n",
    "  plt.legend()\n",
    "\n",
    "  plt.subplot(1,2,2)\n",
    "  plt.xlabel('Epoch')\n",
    "  plt.ylabel('Loss minimised by model')\n",
    "  plt.plot(history.epoch, np.array(history.history['loss']),'g-',\n",
    "           label='Train loss')\n",
    "  plt.plot(history.epoch, np.array(history.history['val_loss']),'r-',\n",
    "           label = 'Validation loss')\n",
    "  plt.legend()"
   ]
  },
  {
   "cell_type": "code",
   "execution_count": 3,
   "metadata": {
    "colab": {
     "base_uri": "https://localhost:8080/",
     "height": 206
    },
    "id": "p-FrOQlg_Z-D",
    "outputId": "8c753253-7746-40b9-a070-4367d6cc5ccd",
    "pycharm": {
     "name": "#%%\n"
    }
   },
   "outputs": [
    {
     "data": {
      "text/plain": "                                                Text  Label\n0                           Wow... Loved this place.      1\n1                                 Crust is not good.      0\n2          Not tasty and the texture was just nasty.      0\n3  Stopped by during the late May bank holiday of...      1\n4  The selection on the menu was great and so wer...      1",
      "text/html": "<div>\n<style scoped>\n    .dataframe tbody tr th:only-of-type {\n        vertical-align: middle;\n    }\n\n    .dataframe tbody tr th {\n        vertical-align: top;\n    }\n\n    .dataframe thead th {\n        text-align: right;\n    }\n</style>\n<table border=\"1\" class=\"dataframe\">\n  <thead>\n    <tr style=\"text-align: right;\">\n      <th></th>\n      <th>Text</th>\n      <th>Label</th>\n    </tr>\n  </thead>\n  <tbody>\n    <tr>\n      <th>0</th>\n      <td>Wow... Loved this place.</td>\n      <td>1</td>\n    </tr>\n    <tr>\n      <th>1</th>\n      <td>Crust is not good.</td>\n      <td>0</td>\n    </tr>\n    <tr>\n      <th>2</th>\n      <td>Not tasty and the texture was just nasty.</td>\n      <td>0</td>\n    </tr>\n    <tr>\n      <th>3</th>\n      <td>Stopped by during the late May bank holiday of...</td>\n      <td>1</td>\n    </tr>\n    <tr>\n      <th>4</th>\n      <td>The selection on the menu was great and so wer...</td>\n      <td>1</td>\n    </tr>\n  </tbody>\n</table>\n</div>"
     },
     "execution_count": 3,
     "metadata": {},
     "output_type": "execute_result"
    }
   ],
   "source": [
    "data = pd.read_csv(\"https://raw.githubusercontent.com/jdecorte/machinelearning/main/datasets/yelp_labelled.txt\",sep=\"\\t\") \n",
    "data.head()\n"
   ]
  },
  {
   "cell_type": "markdown",
   "metadata": {
    "id": "rf3GiR7mNwI_",
    "pycharm": {
     "name": "#%% md\n"
    }
   },
   "source": [
    "Show the statistical information about the data."
   ]
  },
  {
   "cell_type": "code",
   "execution_count": 4,
   "metadata": {
    "id": "8jeo1-3RGIFC",
    "outputId": "fc4ab1d7-8288-457f-d55e-cdde261206da",
    "pycharm": {
     "name": "#%%\n"
    }
   },
   "outputs": [
    {
     "data": {
      "text/plain": "            Label\ncount  1000.00000\nmean      0.50000\nstd       0.50025\nmin       0.00000\n25%       0.00000\n50%       0.50000\n75%       1.00000\nmax       1.00000",
      "text/html": "<div>\n<style scoped>\n    .dataframe tbody tr th:only-of-type {\n        vertical-align: middle;\n    }\n\n    .dataframe tbody tr th {\n        vertical-align: top;\n    }\n\n    .dataframe thead th {\n        text-align: right;\n    }\n</style>\n<table border=\"1\" class=\"dataframe\">\n  <thead>\n    <tr style=\"text-align: right;\">\n      <th></th>\n      <th>Label</th>\n    </tr>\n  </thead>\n  <tbody>\n    <tr>\n      <th>count</th>\n      <td>1000.00000</td>\n    </tr>\n    <tr>\n      <th>mean</th>\n      <td>0.50000</td>\n    </tr>\n    <tr>\n      <th>std</th>\n      <td>0.50025</td>\n    </tr>\n    <tr>\n      <th>min</th>\n      <td>0.00000</td>\n    </tr>\n    <tr>\n      <th>25%</th>\n      <td>0.00000</td>\n    </tr>\n    <tr>\n      <th>50%</th>\n      <td>0.50000</td>\n    </tr>\n    <tr>\n      <th>75%</th>\n      <td>1.00000</td>\n    </tr>\n    <tr>\n      <th>max</th>\n      <td>1.00000</td>\n    </tr>\n  </tbody>\n</table>\n</div>"
     },
     "execution_count": 4,
     "metadata": {},
     "output_type": "execute_result"
    }
   ],
   "source": [
    "data.describe()"
   ]
  },
  {
   "cell_type": "code",
   "execution_count": 9,
   "outputs": [
    {
     "name": "stdout",
     "output_type": "stream",
     "text": [
      "<class 'pandas.core.frame.DataFrame'>\n",
      "RangeIndex: 1000 entries, 0 to 999\n",
      "Data columns (total 2 columns):\n",
      " #   Column  Non-Null Count  Dtype \n",
      "---  ------  --------------  ----- \n",
      " 0   Text    1000 non-null   object\n",
      " 1   Label   1000 non-null   int64 \n",
      "dtypes: int64(1), object(1)\n",
      "memory usage: 15.8+ KB\n"
     ]
    }
   ],
   "source": [
    "data.info()"
   ],
   "metadata": {
    "collapsed": false,
    "pycharm": {
     "name": "#%%\n"
    }
   }
  },
  {
   "cell_type": "markdown",
   "metadata": {
    "id": "bsmn3I0YN1pQ",
    "pycharm": {
     "name": "#%% md\n"
    }
   },
   "source": [
    "Is this a skewed dataset?"
   ]
  },
  {
   "cell_type": "code",
   "execution_count": 5,
   "metadata": {
    "id": "TxNkflR7N4un",
    "outputId": "56f053a5-8071-420a-a0b8-bc27857041e4",
    "pycharm": {
     "name": "#%%\n"
    }
   },
   "outputs": [
    {
     "data": {
      "text/plain": "1    500\n0    500\nName: Label, dtype: int64"
     },
     "execution_count": 5,
     "metadata": {},
     "output_type": "execute_result"
    }
   ],
   "source": [
    "data['Label'].value_counts()"
   ]
  },
  {
   "cell_type": "code",
   "execution_count": 6,
   "metadata": {
    "id": "5XNHMZ0ngbZz",
    "outputId": "f237f84f-1376-423a-ad6c-d100585407a3",
    "pycharm": {
     "name": "#%%\n"
    }
   },
   "outputs": [
    {
     "name": "stdout",
     "output_type": "stream",
     "text": [
      "You are not running on Google Colab\n"
     ]
    }
   ],
   "source": [
    "if 'google.colab' in str(get_ipython()):\n",
    "    colab = True\n",
    "    print ('You are running on Google Colab')\n",
    "    !pip install langdetect\n",
    "else:\n",
    "    colab = False\n",
    "    print ('You are not running on Google Colab')"
   ]
  },
  {
   "cell_type": "markdown",
   "metadata": {
    "id": "bt3q6MbSONiW",
    "pycharm": {
     "name": "#%% md\n"
    }
   },
   "source": [
    "Remove those Text's that are not in English (see list below for all non-English texts)."
   ]
  },
  {
   "cell_type": "code",
   "execution_count": 16,
   "metadata": {
    "id": "FcHe53RMRm50",
    "outputId": "53e90228-a278-4e4c-db88-be2749176da8",
    "pycharm": {
     "name": "#%%\n"
    }
   },
   "outputs": [
    {
     "data": {
      "text/plain": "                            Text  Label Language\n19          did not like at all.      0       af\n93      Best breakfast buffet!!!      1       de\n109                Sooooo good!!      1       so\n117  I've had better atmosphere.      0       no\n131       Penne vodka excellent!      1       fr",
      "text/html": "<div>\n<style scoped>\n    .dataframe tbody tr th:only-of-type {\n        vertical-align: middle;\n    }\n\n    .dataframe tbody tr th {\n        vertical-align: top;\n    }\n\n    .dataframe thead th {\n        text-align: right;\n    }\n</style>\n<table border=\"1\" class=\"dataframe\">\n  <thead>\n    <tr style=\"text-align: right;\">\n      <th></th>\n      <th>Text</th>\n      <th>Label</th>\n      <th>Language</th>\n    </tr>\n  </thead>\n  <tbody>\n    <tr>\n      <th>19</th>\n      <td>did not like at all.</td>\n      <td>0</td>\n      <td>af</td>\n    </tr>\n    <tr>\n      <th>93</th>\n      <td>Best breakfast buffet!!!</td>\n      <td>1</td>\n      <td>de</td>\n    </tr>\n    <tr>\n      <th>109</th>\n      <td>Sooooo good!!</td>\n      <td>1</td>\n      <td>so</td>\n    </tr>\n    <tr>\n      <th>117</th>\n      <td>I've had better atmosphere.</td>\n      <td>0</td>\n      <td>no</td>\n    </tr>\n    <tr>\n      <th>131</th>\n      <td>Penne vodka excellent!</td>\n      <td>1</td>\n      <td>fr</td>\n    </tr>\n  </tbody>\n</table>\n</div>"
     },
     "execution_count": 16,
     "metadata": {},
     "output_type": "execute_result"
    }
   ],
   "source": [
    "from langdetect import detect\n",
    "data['Text'] = data['Text'].astype(\"string\")\n",
    "data['Language'] = data['Text'].apply(detect)\n",
    "data_en = data.query(\"Language == 'en'\")\n",
    "rest = data.query(\"Language != 'en'\")\n",
    "rest.head()\n",
    "#data.head()"
   ]
  },
  {
   "cell_type": "markdown",
   "metadata": {
    "id": "Qv1Hwf1aOvaQ",
    "pycharm": {
     "name": "#%% md\n"
    }
   },
   "source": [
    "How many records are left?"
   ]
  },
  {
   "cell_type": "code",
   "execution_count": 17,
   "metadata": {
    "id": "ZYAphDunOx-a",
    "outputId": "f0d9477d-869a-4773-fa7a-a76aa00af1f1",
    "pycharm": {
     "name": "#%%\n"
    }
   },
   "outputs": [
    {
     "name": "stdout",
     "output_type": "stream",
     "text": [
      "<class 'pandas.core.frame.DataFrame'>\n",
      "Int64Index: 958 entries, 0 to 999\n",
      "Data columns (total 3 columns):\n",
      " #   Column    Non-Null Count  Dtype \n",
      "---  ------    --------------  ----- \n",
      " 0   Text      958 non-null    string\n",
      " 1   Label     958 non-null    int64 \n",
      " 2   Language  958 non-null    object\n",
      "dtypes: int64(1), object(1), string(1)\n",
      "memory usage: 29.9+ KB\n"
     ]
    }
   ],
   "source": [
    "data_en.info()"
   ]
  },
  {
   "cell_type": "markdown",
   "metadata": {
    "id": "-_FsJr0kiNQM",
    "pycharm": {
     "name": "#%% md\n"
    }
   },
   "source": [
    "## Using pre-trained word embeddings"
   ]
  },
  {
   "cell_type": "markdown",
   "metadata": {
    "id": "bEwn5TS7gXzr",
    "pycharm": {
     "name": "#%% md\n"
    }
   },
   "source": [
    "What is the average length of the Text's (expressed as a number of words). This will be important when we need to truncate the sequences to a maximum length?  \n",
    "75% of the blogs consist of how many words?"
   ]
  },
  {
   "cell_type": "code",
   "execution_count": 18,
   "metadata": {
    "id": "X_sC6Q_sSBaG",
    "outputId": "7691c7b2-6466-4ab5-c1d6-7558dbcdca54",
    "pycharm": {
     "name": "#%%\n"
    }
   },
   "outputs": [
    {
     "name": "stderr",
     "output_type": "stream",
     "text": [
      "C:\\Users\\bart.de.paepe\\AppData\\Local\\Temp\\ipykernel_21628\\2752354257.py:1: SettingWithCopyWarning: \n",
      "A value is trying to be set on a copy of a slice from a DataFrame.\n",
      "Try using .loc[row_indexer,col_indexer] = value instead\n",
      "\n",
      "See the caveats in the documentation: https://pandas.pydata.org/pandas-docs/stable/user_guide/indexing.html#returning-a-view-versus-a-copy\n",
      "  data_en['numberOfWords'] = data_en.Text.str.split().apply(len)\n"
     ]
    },
    {
     "data": {
      "text/plain": "                                                Text  Label Language  \\\n0                           Wow... Loved this place.      1       en   \n1                                 Crust is not good.      0       en   \n2          Not tasty and the texture was just nasty.      0       en   \n3  Stopped by during the late May bank holiday of...      1       en   \n4  The selection on the menu was great and so wer...      1       en   \n\n   numberOfWords  \n0              4  \n1              4  \n2              8  \n3             15  \n4             12  ",
      "text/html": "<div>\n<style scoped>\n    .dataframe tbody tr th:only-of-type {\n        vertical-align: middle;\n    }\n\n    .dataframe tbody tr th {\n        vertical-align: top;\n    }\n\n    .dataframe thead th {\n        text-align: right;\n    }\n</style>\n<table border=\"1\" class=\"dataframe\">\n  <thead>\n    <tr style=\"text-align: right;\">\n      <th></th>\n      <th>Text</th>\n      <th>Label</th>\n      <th>Language</th>\n      <th>numberOfWords</th>\n    </tr>\n  </thead>\n  <tbody>\n    <tr>\n      <th>0</th>\n      <td>Wow... Loved this place.</td>\n      <td>1</td>\n      <td>en</td>\n      <td>4</td>\n    </tr>\n    <tr>\n      <th>1</th>\n      <td>Crust is not good.</td>\n      <td>0</td>\n      <td>en</td>\n      <td>4</td>\n    </tr>\n    <tr>\n      <th>2</th>\n      <td>Not tasty and the texture was just nasty.</td>\n      <td>0</td>\n      <td>en</td>\n      <td>8</td>\n    </tr>\n    <tr>\n      <th>3</th>\n      <td>Stopped by during the late May bank holiday of...</td>\n      <td>1</td>\n      <td>en</td>\n      <td>15</td>\n    </tr>\n    <tr>\n      <th>4</th>\n      <td>The selection on the menu was great and so wer...</td>\n      <td>1</td>\n      <td>en</td>\n      <td>12</td>\n    </tr>\n  </tbody>\n</table>\n</div>"
     },
     "execution_count": 18,
     "metadata": {},
     "output_type": "execute_result"
    }
   ],
   "source": [
    "data_en['numberOfWords'] = data_en.Text.str.split().apply(len)\n",
    "data_en.head()"
   ]
  },
  {
   "cell_type": "code",
   "execution_count": 19,
   "metadata": {
    "id": "c5oro8fYgYC_",
    "outputId": "baea4cab-fc85-4bac-8f32-aefb7ec62807",
    "pycharm": {
     "name": "#%%\n"
    }
   },
   "outputs": [
    {
     "data": {
      "text/plain": "            Label  numberOfWords\ncount  958.000000     958.000000\nmean     0.502088      11.176409\nstd      0.500257       6.217512\nmin      0.000000       2.000000\n25%      0.000000       6.000000\n50%      1.000000      10.000000\n75%      1.000000      15.000000\nmax      1.000000      32.000000",
      "text/html": "<div>\n<style scoped>\n    .dataframe tbody tr th:only-of-type {\n        vertical-align: middle;\n    }\n\n    .dataframe tbody tr th {\n        vertical-align: top;\n    }\n\n    .dataframe thead th {\n        text-align: right;\n    }\n</style>\n<table border=\"1\" class=\"dataframe\">\n  <thead>\n    <tr style=\"text-align: right;\">\n      <th></th>\n      <th>Label</th>\n      <th>numberOfWords</th>\n    </tr>\n  </thead>\n  <tbody>\n    <tr>\n      <th>count</th>\n      <td>958.000000</td>\n      <td>958.000000</td>\n    </tr>\n    <tr>\n      <th>mean</th>\n      <td>0.502088</td>\n      <td>11.176409</td>\n    </tr>\n    <tr>\n      <th>std</th>\n      <td>0.500257</td>\n      <td>6.217512</td>\n    </tr>\n    <tr>\n      <th>min</th>\n      <td>0.000000</td>\n      <td>2.000000</td>\n    </tr>\n    <tr>\n      <th>25%</th>\n      <td>0.000000</td>\n      <td>6.000000</td>\n    </tr>\n    <tr>\n      <th>50%</th>\n      <td>1.000000</td>\n      <td>10.000000</td>\n    </tr>\n    <tr>\n      <th>75%</th>\n      <td>1.000000</td>\n      <td>15.000000</td>\n    </tr>\n    <tr>\n      <th>max</th>\n      <td>1.000000</td>\n      <td>32.000000</td>\n    </tr>\n  </tbody>\n</table>\n</div>"
     },
     "execution_count": 19,
     "metadata": {},
     "output_type": "execute_result"
    }
   ],
   "source": [
    "data_en.describe()"
   ]
  },
  {
   "cell_type": "markdown",
   "metadata": {
    "id": "ppgvflqqnh0-",
    "pycharm": {
     "name": "#%% md\n"
    }
   },
   "source": [
    "What is X_train, y_train, X_test, y_test?"
   ]
  },
  {
   "cell_type": "code",
   "execution_count": 22,
   "metadata": {
    "id": "CKsiVShZkP9K",
    "pycharm": {
     "name": "#%%\n"
    }
   },
   "outputs": [
    {
     "name": "stdout",
     "output_type": "stream",
     "text": [
      "X_train shape: (766, 1)\n",
      "X_test shape: (192, 1)\n",
      "766 train samples\n",
      "192 test samples\n",
      "<class 'pandas.core.frame.DataFrame'>\n"
     ]
    }
   ],
   "source": [
    "# Extract a training & validation split\n",
    "from sklearn.model_selection import train_test_split\n",
    "X = data_en.drop(['Label','Language','numberOfWords'],axis=1)\n",
    "y = data_en['Label']\n",
    "X_train, X_test, y_train, y_test = train_test_split(X,y,test_size=0.20,random_state=42)\n",
    "\n",
    "print('X_train shape:', X_train.shape)\n",
    "print('X_test shape:', X_test.shape)\n",
    "print(X_train.shape[0], 'train samples')\n",
    "print(X_test.shape[0], 'test samples')\n",
    "print(type(X_train))"
   ]
  },
  {
   "cell_type": "markdown",
   "metadata": {
    "id": "FIWgtlmmnuek",
    "pycharm": {
     "name": "#%% md\n"
    }
   },
   "source": [
    "What is X_train, y_train, X_val, y_val?"
   ]
  },
  {
   "cell_type": "code",
   "execution_count": 23,
   "metadata": {
    "id": "ceIjK_G3n0nL",
    "pycharm": {
     "name": "#%%\n"
    }
   },
   "outputs": [],
   "source": [
    "X_train,X_val,y_train,y_val = train_test_split(X_train,y_train,test_size=0.20,random_state=42)"
   ]
  },
  {
   "cell_type": "markdown",
   "metadata": {
    "id": "G83ViT6hn3NE",
    "pycharm": {
     "name": "#%% md\n"
    }
   },
   "source": [
    "What are the dimensions of X_train, X_val, X_test, y_train, y_val, y_test?"
   ]
  },
  {
   "cell_type": "code",
   "execution_count": 24,
   "metadata": {
    "id": "tNhF4BKdn398",
    "outputId": "9718d0be-af44-43e8-b0cb-574b23a39754",
    "pycharm": {
     "name": "#%%\n"
    }
   },
   "outputs": [
    {
     "name": "stdout",
     "output_type": "stream",
     "text": [
      "X_train shape: (612, 1)\n",
      "X_val shape: (154, 1)\n",
      "X_test shape: (192, 1)\n",
      "y_train shape: (612,)\n",
      "y_val shape: (154,)\n",
      "y_test shape: (192,)\n"
     ]
    }
   ],
   "source": [
    "print('X_train shape:', X_train.shape)\n",
    "print('X_val shape:', X_val.shape)\n",
    "print('X_test shape:', X_test.shape)\n",
    "print('y_train shape:', y_train.shape)\n",
    "print('y_val shape:', y_val.shape)\n",
    "print('y_test shape:', y_test.shape)"
   ]
  },
  {
   "cell_type": "markdown",
   "metadata": {
    "id": "gS6e2fBFoQbV",
    "pycharm": {
     "name": "#%% md\n"
    }
   },
   "source": [
    "Transform X_train, X_val and X_test into an array"
   ]
  },
  {
   "cell_type": "code",
   "execution_count": 25,
   "metadata": {
    "colab": {
     "base_uri": "https://localhost:8080/"
    },
    "id": "fakcRHRCkP9K",
    "outputId": "acc678b4-9de6-4d67-9594-8efda084f6eb",
    "pycharm": {
     "name": "#%%\n"
    }
   },
   "outputs": [
    {
     "name": "stdout",
     "output_type": "stream",
     "text": [
      "X_train shape: (612, 1)\n",
      "<class 'numpy.ndarray'>\n"
     ]
    }
   ],
   "source": [
    "X_train = np.asarray(X_train)\n",
    "X_val = np.asarray(X_val)\n",
    "X_test = np.asarray(X_test)\n",
    "\n",
    "print('X_train shape:', X_train.shape)\n",
    "print(type(X_train))"
   ]
  },
  {
   "cell_type": "markdown",
   "metadata": {
    "id": "DeoSq0anotyA",
    "pycharm": {
     "name": "#%% md\n"
    }
   },
   "source": [
    "Look at the new labels for the first sample."
   ]
  },
  {
   "cell_type": "code",
   "execution_count": 26,
   "metadata": {
    "id": "Zq-NlWNAkP9K",
    "pycharm": {
     "name": "#%%\n"
    }
   },
   "outputs": [
    {
     "name": "stdout",
     "output_type": "stream",
     "text": [
      "1\n",
      "y_train shape: (612,)\n",
      "y_val shape: (154,)\n",
      "y_test shape: (192,)\n"
     ]
    }
   ],
   "source": [
    "# look at the new labels for the first sample\n",
    "print(y_train[0])\n",
    "print('y_train shape:', y_train.shape)\n",
    "print('y_val shape:', y_val.shape)\n",
    "print('y_test shape:', y_test.shape)"
   ]
  },
  {
   "cell_type": "markdown",
   "metadata": {
    "id": "IEeYjwoIkP9L",
    "pycharm": {
     "name": "#%% md\n"
    }
   },
   "source": [
    "### Create a vocabulary index\n",
    "\n",
    "Use the TextVectorization to index the vocabulary found in the dataset. Later, the same layer instance will be used to vectorize the samples.\n",
    "\n",
    "The layer will only consider the top 20,000 words, and will truncate or pad sequences to be actually 15 tokens long (75% quartile)."
   ]
  },
  {
   "cell_type": "code",
   "execution_count": 27,
   "metadata": {
    "id": "XX306h1bkP9L",
    "pycharm": {
     "name": "#%%\n"
    }
   },
   "outputs": [],
   "source": [
    "\n",
    "from keras.layers import TextVectorization\n",
    "\n",
    "# max_tokens = integer parameter that will control the maximum size of the vocabulary.\n",
    "# We will only consider the top 20 000 words\n",
    "# output_sequence_length = 25: we will truncate or pad sequences to be actually 25 tokens long.\n",
    "# This is the reason why we calculated the number of words for each message in a previouse step\n",
    "# From the describe we learn that 75% of the messages are not longer than 23 tokens\n",
    "vectorizer = TextVectorization(max_tokens=20000, output_sequence_length=15)\n",
    "\n",
    "# Make a Dataset from a numpy array\n",
    "# A tf.data.Dataset represents a potentially large set of elements.\n",
    "text_ds = tf.data.Dataset.from_tensor_slices(X_train)\n",
    "\n",
    "# Call the adapt method to build the vocabulary\n",
    "vectorizer.adapt(text_ds)"
   ]
  },
  {
   "cell_type": "markdown",
   "metadata": {
    "id": "_HYmyLy0pAyb",
    "pycharm": {
     "name": "#%% md\n"
    }
   },
   "source": [
    "You can retrieve the computed vocabulary used via vectorizer.get_vocabulary().  \n",
    "Let's print the top 5 words"
   ]
  },
  {
   "cell_type": "code",
   "execution_count": 28,
   "metadata": {
    "colab": {
     "base_uri": "https://localhost:8080/"
    },
    "id": "-GH702DRkP9L",
    "outputId": "43f009ca-4fb1-4c6c-dc17-7fae8cd7dbc8",
    "pycharm": {
     "name": "#%%\n"
    }
   },
   "outputs": [
    {
     "data": {
      "text/plain": "['', '[UNK]', 'the', 'and', 'i']"
     },
     "execution_count": 28,
     "metadata": {},
     "output_type": "execute_result"
    }
   ],
   "source": [
    "vectorizer.get_vocabulary()[:5]"
   ]
  },
  {
   "cell_type": "markdown",
   "metadata": {
    "id": "TI_5Vc0spFyz",
    "pycharm": {
     "name": "#%% md\n"
    }
   },
   "source": [
    "Vectorize a small sentence \"the girl was unhappy\" "
   ]
  },
  {
   "cell_type": "code",
   "execution_count": 29,
   "metadata": {
    "colab": {
     "base_uri": "https://localhost:8080/"
    },
    "id": "4118Q5lukP9L",
    "outputId": "8fad8777-1127-4afc-da27-7e007484e185",
    "pycharm": {
     "name": "#%%\n"
    }
   },
   "outputs": [
    {
     "name": "stdout",
     "output_type": "stream",
     "text": [
      "<class 'tensorflow.python.framework.ops.EagerTensor'>\n"
     ]
    },
    {
     "data": {
      "text/plain": "array([2, 1, 5, 1], dtype=int64)"
     },
     "execution_count": 29,
     "metadata": {},
     "output_type": "execute_result"
    }
   ],
   "source": [
    "output = vectorizer([[\"the girl was unhappy\"]])\n",
    "print(type(output))\n",
    "output.numpy()[0, :4]"
   ]
  },
  {
   "cell_type": "markdown",
   "metadata": {
    "id": "oIxA_Z2pkP9L",
    "pycharm": {
     "name": "#%% md\n"
    }
   },
   "source": [
    "By which number is i represented? And girl? \n",
    "Give the dict mapping words to their indices."
   ]
  },
  {
   "cell_type": "code",
   "execution_count": 31,
   "metadata": {
    "id": "j9s_uUr4kP9L",
    "pycharm": {
     "name": "#%%\n"
    }
   },
   "outputs": [],
   "source": [
    "voc = vectorizer.get_vocabulary()\n",
    "word_index = dict(zip(voc, range(len(voc))))"
   ]
  },
  {
   "cell_type": "code",
   "execution_count": 32,
   "metadata": {
    "id": "VoWFbVcqgbZ3",
    "outputId": "1f53fef5-705a-4447-c655-76f86287925d",
    "pycharm": {
     "name": "#%%\n"
    }
   },
   "outputs": [
    {
     "ename": "KeyError",
     "evalue": "'girl'",
     "output_type": "error",
     "traceback": [
      "\u001B[1;31m---------------------------------------------------------------------------\u001B[0m",
      "\u001B[1;31mKeyError\u001B[0m                                  Traceback (most recent call last)",
      "Input \u001B[1;32mIn [32]\u001B[0m, in \u001B[0;36m<cell line: 2>\u001B[1;34m()\u001B[0m\n\u001B[0;32m      1\u001B[0m test \u001B[38;5;241m=\u001B[39m [\u001B[38;5;124m\"\u001B[39m\u001B[38;5;124mthe\u001B[39m\u001B[38;5;124m\"\u001B[39m,\u001B[38;5;124m\"\u001B[39m\u001B[38;5;124mgirl\u001B[39m\u001B[38;5;124m\"\u001B[39m,\u001B[38;5;124m\"\u001B[39m\u001B[38;5;124mwas\u001B[39m\u001B[38;5;124m\"\u001B[39m, \u001B[38;5;124m\"\u001B[39m\u001B[38;5;124munhappy\u001B[39m\u001B[38;5;124m\"\u001B[39m]\n\u001B[1;32m----> 2\u001B[0m [word_index[w] \u001B[38;5;28;01mfor\u001B[39;00m w \u001B[38;5;129;01min\u001B[39;00m test]\n",
      "Input \u001B[1;32mIn [32]\u001B[0m, in \u001B[0;36m<listcomp>\u001B[1;34m(.0)\u001B[0m\n\u001B[0;32m      1\u001B[0m test \u001B[38;5;241m=\u001B[39m [\u001B[38;5;124m\"\u001B[39m\u001B[38;5;124mthe\u001B[39m\u001B[38;5;124m\"\u001B[39m,\u001B[38;5;124m\"\u001B[39m\u001B[38;5;124mgirl\u001B[39m\u001B[38;5;124m\"\u001B[39m,\u001B[38;5;124m\"\u001B[39m\u001B[38;5;124mwas\u001B[39m\u001B[38;5;124m\"\u001B[39m, \u001B[38;5;124m\"\u001B[39m\u001B[38;5;124munhappy\u001B[39m\u001B[38;5;124m\"\u001B[39m]\n\u001B[1;32m----> 2\u001B[0m [\u001B[43mword_index\u001B[49m\u001B[43m[\u001B[49m\u001B[43mw\u001B[49m\u001B[43m]\u001B[49m \u001B[38;5;28;01mfor\u001B[39;00m w \u001B[38;5;129;01min\u001B[39;00m test]\n",
      "\u001B[1;31mKeyError\u001B[0m: 'girl'"
     ]
    }
   ],
   "source": [
    "test = [\"the\",\"girl\",\"was\", \"unhappy\"]\n",
    "[word_index[w] for w in test]"
   ]
  },
  {
   "cell_type": "markdown",
   "metadata": {
    "id": "6rvAyS5YkP9M",
    "pycharm": {
     "name": "#%% md\n"
    }
   },
   "source": [
    "### Load pre-trained word embeddings\n"
   ]
  },
  {
   "cell_type": "markdown",
   "metadata": {
    "id": "cJE1M43ukP9M",
    "pycharm": {
     "name": "#%% md\n"
    }
   },
   "source": [
    "Make a dict mapping words (strings) to their NumPy vector representation. Use the 100-dimensional vectors."
   ]
  },
  {
   "cell_type": "code",
   "execution_count": 33,
   "metadata": {
    "colab": {
     "base_uri": "https://localhost:8080/"
    },
    "id": "0mvxd8KXkP9M",
    "outputId": "396d68a9-fe25-4973-9091-0497b81f93fe",
    "pycharm": {
     "name": "#%%\n"
    }
   },
   "outputs": [
    {
     "name": "stdout",
     "output_type": "stream",
     "text": [
      "Found 400000 word vectors.\n"
     ]
    }
   ],
   "source": [
    "path_to_glove_file = '../datasets/glove.6B.100d.txt'\n",
    "\n",
    "embeddings_index = {}\n",
    "\n",
    "with open(path_to_glove_file, encoding='utf-8') as f:\n",
    "    for line in f:\n",
    "\n",
    "      values = line.split()\n",
    "      word = values[0]\n",
    "      coefs = np.asarray(values[1:], dtype='float32')\n",
    "      embeddings_index[word] = coefs\n",
    "\n",
    "print(\"Found %s word vectors.\" % len(embeddings_index))"
   ]
  },
  {
   "cell_type": "markdown",
   "metadata": {
    "id": "V3-pNTHmvuKj",
    "pycharm": {
     "name": "#%% md\n"
    }
   },
   "source": [
    "What is the embeddings_vector for the word girl?"
   ]
  },
  {
   "cell_type": "code",
   "execution_count": 34,
   "metadata": {
    "colab": {
     "base_uri": "https://localhost:8080/"
    },
    "id": "qEVhldJykP9M",
    "outputId": "02682b73-1cd2-4559-aa62-ad7e83229b63",
    "pycharm": {
     "name": "#%%\n"
    }
   },
   "outputs": [
    {
     "data": {
      "text/plain": "array([ 7.4582e-01,  1.9531e-01,  4.6831e-01, -1.0277e-01, -2.9927e-01,\n        9.9653e-01,  1.3940e-01,  6.4173e-01,  3.3129e-01,  3.5322e-01,\n       -3.0205e-01,  3.4699e-01,  5.3364e-01,  6.2235e-01,  4.3555e-01,\n        5.4403e-01,  3.9656e-01, -3.1789e-01, -2.0172e-01,  9.9636e-01,\n        1.8479e-03, -1.4826e-01, -4.1845e-03,  2.4953e-01,  3.0177e-01,\n        1.0043e+00, -4.4867e-01, -1.2911e+00, -1.2741e-01,  9.0103e-01,\n        1.1870e-01,  2.7229e-01,  9.7697e-01,  1.9520e-02,  4.0453e-01,\n       -6.1585e-01, -5.0483e-01, -3.1174e-02,  7.0384e-01, -4.6058e-01,\n       -4.3899e-01,  4.2115e-01, -1.7343e-01, -4.1879e-01,  7.4560e-03,\n        2.6609e-01, -7.8183e-01,  4.5464e-01,  9.0846e-01, -1.3126e-01,\n       -4.8101e-01, -2.4726e-01,  2.9251e-01,  1.4122e+00,  2.5368e-02,\n       -1.9882e+00, -5.3257e-01,  1.3427e-01,  8.8987e-01,  6.7416e-01,\n        7.3902e-01,  1.0998e+00, -7.6633e-01, -8.4833e-04,  5.0982e-01,\n        1.9587e-01,  7.1845e-01,  2.5045e-01, -2.9609e-01,  1.9005e-01,\n        1.9021e-01, -2.1668e-01, -2.5819e-01,  4.5417e-01,  1.5185e-01,\n        1.3500e+00,  3.2284e-01, -2.3826e-01, -6.9976e-01, -9.8157e-01,\n       -3.9336e-01,  5.2666e-01,  6.0127e-01, -1.7520e-01, -1.0014e+00,\n       -1.0490e+00, -4.0113e-01, -1.9930e-01,  3.4218e-02, -1.7069e-01,\n        1.1801e-01,  2.9238e-01,  4.4989e-01, -2.1155e-01, -5.1509e-01,\n        1.1215e-01, -9.5016e-01, -1.9681e-01, -1.4621e-01, -3.0505e-01],\n      dtype=float32)"
     },
     "execution_count": 34,
     "metadata": {},
     "output_type": "execute_result"
    }
   ],
   "source": [
    "embedding_vector = embeddings_index.get('girl')\n",
    "embedding_vector"
   ]
  },
  {
   "cell_type": "markdown",
   "metadata": {
    "id": "TWQdOBRIkP9M",
    "pycharm": {
     "name": "#%% md\n"
    }
   },
   "source": [
    "Prepare a corresponding embedding matrix that can be ued in a Keras Embedding layer. It's a simple NumPy matrix where the entry at index i is the pre-trained vector for the word of index i in our vectorizer's vocabulary."
   ]
  },
  {
   "cell_type": "code",
   "execution_count": 35,
   "metadata": {
    "colab": {
     "base_uri": "https://localhost:8080/"
    },
    "id": "GDClKnOdkP9N",
    "outputId": "00a7f10e-0aca-4a79-e2d4-bc7551d028d8",
    "pycharm": {
     "name": "#%%\n"
    }
   },
   "outputs": [
    {
     "name": "stdout",
     "output_type": "stream",
     "text": [
      "Converted 1557 words (65 misses)\n",
      "*** shape of the embedding matrix:***\n",
      "(1624, 100)\n",
      "*** Missed words = words not in word_index ***\n",
      "['', '[UNK]', 'yaall', 'wouldve', 'worstannoying', 'workingeating', 'werent', 'wayyy', 'waaaaaayyyyyyyyyy', 'veggitarian']\n",
      "\n"
     ]
    }
   ],
   "source": [
    "num_tokens = len(voc) + 2\n",
    "# each word is represented by a vector of 100 floats (glove.6B.100d.txt)\n",
    "embedding_dim = 100\n",
    "hits = 0\n",
    "misses = 0\n",
    "missed_words = []\n",
    "\n",
    "# Prepare embedding matrix\n",
    "embedding_matrix = np.zeros((num_tokens, embedding_dim))\n",
    "# word_index is a dictionary that maps each word to an index\n",
    "# we loop through all the words of word_index.items()\n",
    "# the items() method of a dictionary returns a list of tuples (key, index) for all elements in the dictionary\n",
    "for word, i in word_index.items():\n",
    "# we try to retrieve the vector of 100 floats for this word out of embeddings_index\n",
    "    embedding_vector = embeddings_index.get(word)\n",
    "# if we found the corresponding vector of 100 floats\n",
    "    if embedding_vector is not None:\n",
    "      # we put the vector on position i of embedding_matrix\n",
    "        embedding_matrix[i] = embedding_vector\n",
    "        hits += 1\n",
    "    else:\n",
    "      # Words not found in embedding index will be all-zeros.\n",
    "        misses += 1\n",
    "        missed_words.append(word)\n",
    "\n",
    "print(\"Converted %d words (%d misses)\" % (hits, misses))\n",
    "\n",
    "print(\"*** shape of the embedding matrix:***\")\n",
    "print(embedding_matrix.shape)\n",
    "\n",
    "print(\"*** Missed words = words not in word_index ***\")\n",
    "print(missed_words[0:10])\n",
    "print()"
   ]
  },
  {
   "cell_type": "markdown",
   "metadata": {
    "id": "5alBafGpLrS-",
    "pycharm": {
     "name": "#%% md\n"
    }
   },
   "source": [
    "### Build the model\n",
    "First, convert our list-of-strings data to NumPy arrays of integer indices. The arrays are right-padded."
   ]
  },
  {
   "cell_type": "code",
   "execution_count": 37,
   "metadata": {
    "id": "6CQGaIJu2rTu",
    "outputId": "dbcb1019-904b-4a9d-8f24-36bb99b725d0",
    "pycharm": {
     "name": "#%%\n"
    }
   },
   "outputs": [
    {
     "name": "stdout",
     "output_type": "stream",
     "text": [
      "(612, 1)\n",
      "(192, 1)\n",
      "(612, 15)\n",
      "(192, 15)\n",
      "----------------\n",
      "(612,)\n",
      "(192,)\n"
     ]
    }
   ],
   "source": [
    "X_train_final = vectorizer(np.array([s for s in X_train])).numpy()\n",
    "X_test_final = vectorizer(np.array([s for s in X_test])).numpy()\n",
    "\n",
    "y_train_final = np.array(y_train)\n",
    "y_test_final = np.array(y_test)\n",
    "print(X_train.shape)\n",
    "print(X_test.shape)\n",
    "print(X_train_final.shape)\n",
    "print(X_test_final.shape)\n",
    "print('----------------')\n",
    "print(y_train_final.shape)\n",
    "print(y_test_final.shape)"
   ]
  },
  {
   "cell_type": "code",
   "execution_count": null,
   "metadata": {
    "id": "sRYRfHlNgbZ4",
    "outputId": "f6a181e3-9e02-4bee-8e2f-465f680ada22",
    "pycharm": {
     "name": "#%%\n"
    }
   },
   "outputs": [
    {
     "name": "stdout",
     "output_type": "stream",
     "text": [
      "[[   4  189   71    7   41   32    0    0    0    0    0    0    0    0\n",
      "     0]\n",
      " [  92 1096   34  205 1583    3    9    5    2   95    3  223   44   92\n",
      "   788]\n",
      " [   2   11    8   13  139   36   38   13    7   98  102  337  721 1163\n",
      "   427]\n",
      " [   2 1435   23   50    3   96    6   14  277    0    0    0    0    0\n",
      "     0]\n",
      " [   4   21  360 1170   16    9   17  205    2 1465   30  237  218    6\n",
      "   595]]\n"
     ]
    }
   ],
   "source": []
  },
  {
   "cell_type": "markdown",
   "metadata": {
    "id": "g7CgWtfGL3dP",
    "pycharm": {
     "name": "#%% md\n"
    }
   },
   "source": [
    "Create a small ANN model to predict the Label. Load the pre-trained word embeddings matrix into an Embedding layer.\n",
    "\n",
    "Compile the model.\n",
    "\n",
    "Train the model.\n",
    "\n",
    "Evaluate the model"
   ]
  },
  {
   "cell_type": "code",
   "execution_count": 38,
   "metadata": {
    "id": "O7C6fomngbZ5",
    "pycharm": {
     "name": "#%%\n"
    }
   },
   "outputs": [],
   "source": [
    "# restart your ANN befor retraining!\n",
    "keras.backend.clear_session()\n",
    "np.random.seed(42)\n",
    "tf.random.set_seed(42)"
   ]
  },
  {
   "cell_type": "code",
   "execution_count": 42,
   "metadata": {
    "id": "hu-34XilLBEG",
    "outputId": "8640802e-8bf0-4abd-c924-ce869bab4ec1",
    "pycharm": {
     "name": "#%%\n"
    }
   },
   "outputs": [],
   "source": [
    "num_classes = 2\n",
    "\n",
    "def initial_model():\n",
    "    # we create a variable called model, and we set it equal to an instance of a Sequential object.\n",
    "    model = Sequential()\n",
    "\n",
    "    model.add(Embedding(input_dim=num_tokens, output_dim=embedding_dim, input_length=15,\n",
    "                        embeddings_initializer=keras.initializers.Constant(embedding_matrix),trainable=False))\n",
    "    model.add(keras.layers.Flatten(input_shape=[num_tokens, embedding_dim]))\n",
    "\n",
    "    model.add(keras.layers.Dense(100, activation=\"elu\", kernel_initializer=\"he_normal\"))\n",
    "    model.add(keras.layers.Dropout(rate=0.4))\n",
    "    model.add(keras.layers.Dense(100, activation=\"elu\", kernel_initializer=\"he_normal\"))\n",
    "    model.add(keras.layers.Dropout(rate=0.4))\n",
    "    model.add(keras.layers.Dense(100, activation=\"elu\", kernel_initializer=\"he_normal\"))\n",
    "    model.add(keras.layers.Dropout(rate=0.4))\n",
    "    model.add(keras.layers.Dense(100, activation=\"elu\", kernel_initializer=\"he_normal\"))\n",
    "    model.add(keras.layers.Dropout(rate=0.4))\n",
    "    model.add(Dense(num_classes, activation='softmax'))\n",
    "\n",
    "\n",
    "    # Before we can train our model, we must compile it\n",
    "    # To the compile() function, we are passing the optimizer, the loss function, and the metrics that we would like to see.\n",
    "    # Notice that the optimizer we have specified is called Adam. Adam is just a variant of SGD.\n",
    "    model.compile(loss=\"sparse_categorical_crossentropy\",\n",
    "                  optimizer= tf.keras.optimizers.Adam(learning_rate = 0.01),\n",
    "                  metrics=['accuracy'])\n",
    "    return model"
   ]
  },
  {
   "cell_type": "code",
   "execution_count": 43,
   "metadata": {
    "id": "T-zoD-36kP9O",
    "outputId": "61f368bf-3f1a-40c6-a9a1-53e3c0fc48f6",
    "pycharm": {
     "name": "#%%\n"
    }
   },
   "outputs": [
    {
     "name": "stdout",
     "output_type": "stream",
     "text": [
      "Model: \"sequential_1\"\n",
      "_________________________________________________________________\n",
      " Layer (type)                Output Shape              Param #   \n",
      "=================================================================\n",
      " embedding_1 (Embedding)     (None, 15, 100)           162400    \n",
      "                                                                 \n",
      " flatten_1 (Flatten)         (None, 1500)              0         \n",
      "                                                                 \n",
      " dense_5 (Dense)             (None, 100)               150100    \n",
      "                                                                 \n",
      " dropout_4 (Dropout)         (None, 100)               0         \n",
      "                                                                 \n",
      " dense_6 (Dense)             (None, 100)               10100     \n",
      "                                                                 \n",
      " dropout_5 (Dropout)         (None, 100)               0         \n",
      "                                                                 \n",
      " dense_7 (Dense)             (None, 100)               10100     \n",
      "                                                                 \n",
      " dropout_6 (Dropout)         (None, 100)               0         \n",
      "                                                                 \n",
      " dense_8 (Dense)             (None, 100)               10100     \n",
      "                                                                 \n",
      " dropout_7 (Dropout)         (None, 100)               0         \n",
      "                                                                 \n",
      " dense_9 (Dense)             (None, 2)                 202       \n",
      "                                                                 \n",
      "=================================================================\n",
      "Total params: 343,002\n",
      "Trainable params: 180,602\n",
      "Non-trainable params: 162,400\n",
      "_________________________________________________________________\n"
     ]
    }
   ],
   "source": [
    "model_1 = initial_model()\n",
    "model_1.summary()"
   ]
  },
  {
   "cell_type": "code",
   "execution_count": 44,
   "outputs": [
    {
     "name": "stdout",
     "output_type": "stream",
     "text": [
      "Epoch 1/20\n",
      "10/10 [==============================] - 1s 16ms/step - loss: 2.5014 - accuracy: 0.4951 - val_loss: 1.1217 - val_accuracy: 0.5260\n",
      "Epoch 2/20\n",
      "10/10 [==============================] - 0s 4ms/step - loss: 1.3475 - accuracy: 0.5131 - val_loss: 0.7634 - val_accuracy: 0.5208\n",
      "Epoch 3/20\n",
      "10/10 [==============================] - 0s 5ms/step - loss: 1.0202 - accuracy: 0.5261 - val_loss: 0.7837 - val_accuracy: 0.4844\n",
      "Epoch 4/20\n",
      "10/10 [==============================] - 0s 6ms/step - loss: 0.8327 - accuracy: 0.5065 - val_loss: 0.6832 - val_accuracy: 0.5781\n",
      "Epoch 5/20\n",
      "10/10 [==============================] - 0s 5ms/step - loss: 0.7018 - accuracy: 0.5882 - val_loss: 0.6828 - val_accuracy: 0.5521\n",
      "Epoch 6/20\n",
      "10/10 [==============================] - 0s 5ms/step - loss: 0.6906 - accuracy: 0.5882 - val_loss: 0.6538 - val_accuracy: 0.6562\n",
      "Epoch 7/20\n",
      "10/10 [==============================] - 0s 5ms/step - loss: 0.6558 - accuracy: 0.5980 - val_loss: 0.6408 - val_accuracy: 0.6042\n",
      "Epoch 8/20\n",
      "10/10 [==============================] - 0s 5ms/step - loss: 0.6286 - accuracy: 0.6585 - val_loss: 0.6836 - val_accuracy: 0.5938\n",
      "Epoch 9/20\n",
      "10/10 [==============================] - 0s 3ms/step - loss: 0.5710 - accuracy: 0.7108 - val_loss: 0.6662 - val_accuracy: 0.6354\n"
     ]
    }
   ],
   "source": [
    "batch_size = 64\n",
    "epochs = 20\n",
    "\n",
    "early_stopping_cb = keras.callbacks.EarlyStopping(patience=2,\n",
    "                                                  restore_best_weights=True)\n",
    "\n",
    "\n",
    "\n",
    "history_1 = model_1.fit(X_train_final, y_train_final,\n",
    "                    batch_size=batch_size,\n",
    "                    epochs=epochs,\n",
    "                    verbose=1,\n",
    "                    validation_data=(X_test_final, y_test_final),\n",
    "                    callbacks=[early_stopping_cb]\n",
    "                    )"
   ],
   "metadata": {
    "collapsed": false,
    "pycharm": {
     "name": "#%%\n"
    }
   }
  },
  {
   "cell_type": "code",
   "execution_count": 45,
   "outputs": [
    {
     "name": "stdout",
     "output_type": "stream",
     "text": [
      "Training set Accuracy:   0.73\n",
      "Training set Loss: 0.5510\n",
      "\n",
      "Validation set Accuracy:   0.60\n",
      "Validation set Loss: 0.6408\n",
      "\n"
     ]
    },
    {
     "data": {
      "text/plain": "<Figure size 864x288 with 2 Axes>",
      "image/png": "[encoded data removed]"
     },
     "metadata": {
      "needs_background": "light"
     },
     "output_type": "display_data"
    }
   ],
   "source": [
    "[train_loss, train_accuracy] = model_1.evaluate(X_train_final, y_train_final, verbose=0)\n",
    "print(\"Training set Accuracy:{:7.2f}\".format(train_accuracy))\n",
    "print(\"Training set Loss:{:7.4f}\\n\".format(train_loss))\n",
    "\n",
    "[val_loss, val_accuracy] = model_1.evaluate(X_test_final, y_test_final, verbose=0)\n",
    "print(\"Validation set Accuracy:{:7.2f}\".format(val_accuracy))\n",
    "print(\"Validation set Loss:{:7.4f}\\n\".format(val_loss))\n",
    "\n",
    "#Now we visualise what happened during training\n",
    "plot_history(history_1)"
   ],
   "metadata": {
    "collapsed": false,
    "pycharm": {
     "name": "#%%\n"
    }
   }
  },
  {
   "cell_type": "code",
   "execution_count": null,
   "outputs": [],
   "source": [],
   "metadata": {
    "collapsed": false,
    "pycharm": {
     "name": "#%%\n"
    }
   }
  }
 ],
 "metadata": {
  "colab": {
   "collapsed_sections": [],
   "name": "NLP Exercise Yelp Starter.ipynb",
   "provenance": []
  },
  "kernelspec": {
   "display_name": "Python 3",
   "language": "python",
   "name": "python3"
  },
  "language_info": {
   "codemirror_mode": {
    "name": "ipython",
    "version": 3
   },
   "file_extension": ".py",
   "mimetype": "text/x-python",
   "name": "python",
   "nbconvert_exporter": "python",
   "pygments_lexer": "ipython3",
   "version": "3.9.12"
  }
 },
 "nbformat": 4,
 "nbformat_minor": 0
}